{
  "cells": [
    {
      "cell_type": "code",
      "execution_count": 96,
      "metadata": {},
      "outputs": [],
      "source": [
        "# Importing libraries\n",
        "import pandas as pd\n",
        "import numpy as np\n",
        "from sklearn.preprocessing import StandardScaler, OneHotEncoder\n",
        "from sklearn.impute import SimpleImputer\n"
      ]
    },
    {
      "cell_type": "code",
      "execution_count": 97,
      "metadata": {},
      "outputs": [],
      "source": [
        "# Reading the data\n",
        "df = pd.read_csv('../data/data.csv')\n"
      ]
    },
    {
      "cell_type": "code",
      "execution_count": 98,
      "metadata": {},
      "outputs": [],
      "source": [
        "# Specifying the target and feature values\n",
        "X = df[['brand', 'model', 'year', 'fuel', 'milage', 'transmissionType', 'engineCapacity', 'enginePower']]\n",
        "y = df['price']"
      ]
    },
    {
      "cell_type": "code",
      "execution_count": 99,
      "metadata": {},
      "outputs": [],
      "source": [
        "brand_counts = X['brand'].value_counts()\n",
        "X.loc[:, 'brand'] = X['brand'].apply(lambda x: x if brand_counts[x] >= 10 else 'other')"
      ]
    },
    {
      "cell_type": "code",
      "execution_count": 100,
      "metadata": {},
      "outputs": [],
      "source": [
        "# Imputing missing string values\n",
        "imuter_string = SimpleImputer(strategy='most_frequent')\n",
        "X.loc[:, ['brand', 'fuel', 'transmissionType']] = imuter_string.fit_transform(X[['brand', 'fuel', 'transmissionType']])"
      ]
    },
    {
      "cell_type": "code",
      "execution_count": 101,
      "metadata": {},
      "outputs": [],
      "source": [
        "# Encoding the categorical features\n",
        "encoder = OneHotEncoder(drop='first', sparse_output=False)\n",
        "X_encoded = pd.DataFrame(encoder.fit_transform(X[['brand', 'fuel', 'transmissionType']]), columns=encoder.get_feature_names_out())"
      ]
    },
    {
      "cell_type": "code",
      "execution_count": 102,
      "metadata": {},
      "outputs": [],
      "source": [
        "# Imputing missing numeric values\n",
        "imputer_numeric = SimpleImputer(strategy='mean')\n",
        "X.loc[:, ['year', 'milage', 'engineCapacity', 'enginePower']] = imputer_numeric.fit_transform(X[['year', 'milage', 'engineCapacity', 'enginePower']])"
      ]
    },
    {
      "cell_type": "code",
      "execution_count": 103,
      "metadata": {},
      "outputs": [],
      "source": [
        "# Feature engineering\n",
        "X['power_to_capacity'] = X['enginePower'] / X['engineCapacity']"
      ]
    },
    {
      "cell_type": "code",
      "execution_count": 104,
      "metadata": {},
      "outputs": [
        {
          "name": "stderr",
          "output_type": "stream",
          "text": [
            "/var/folders/x7/v93bj2q53pn75ly4gr9h8y3c0000gn/T/ipykernel_5371/2428917601.py:4: FutureWarning: Setting an item of incompatible dtype is deprecated and will raise in a future error of pandas. Value '[-0.44917097 -0.5602134   0.21708364 ... -0.00500123 -0.00500123\n",
            " -3.780444  ]' has dtype incompatible with int64, please explicitly cast to a compatible dtype first.\n",
            "  X.loc[:, ['year', 'milage', 'engineCapacity', 'enginePower', 'power_to_capacity']] = scaler.fit_transform(X[['year', 'milage', 'engineCapacity', 'enginePower', 'power_to_capacity']])\n",
            "/var/folders/x7/v93bj2q53pn75ly4gr9h8y3c0000gn/T/ipykernel_5371/2428917601.py:4: FutureWarning: Setting an item of incompatible dtype is deprecated and will raise in a future error of pandas. Value '[-0.3976221   1.06045432  0.15938407 ...  1.15486214  0.77723084\n",
            " -0.57594799]' has dtype incompatible with int64, please explicitly cast to a compatible dtype first.\n",
            "  X.loc[:, ['year', 'milage', 'engineCapacity', 'enginePower', 'power_to_capacity']] = scaler.fit_transform(X[['year', 'milage', 'engineCapacity', 'enginePower', 'power_to_capacity']])\n",
            "/var/folders/x7/v93bj2q53pn75ly4gr9h8y3c0000gn/T/ipykernel_5371/2428917601.py:4: FutureWarning: Setting an item of incompatible dtype is deprecated and will raise in a future error of pandas. Value '[-0.69155532 -0.69155532 -0.69155532 ... -0.26182987  0.41510689\n",
            " -0.1794261 ]' has dtype incompatible with int64, please explicitly cast to a compatible dtype first.\n",
            "  X.loc[:, ['year', 'milage', 'engineCapacity', 'enginePower', 'power_to_capacity']] = scaler.fit_transform(X[['year', 'milage', 'engineCapacity', 'enginePower', 'power_to_capacity']])\n",
            "/var/folders/x7/v93bj2q53pn75ly4gr9h8y3c0000gn/T/ipykernel_5371/2428917601.py:4: FutureWarning: Setting an item of incompatible dtype is deprecated and will raise in a future error of pandas. Value '[ 0.14670149 -0.34950585 -0.41566683 ...  0.21286247  0.44442589\n",
            " -0.91849027]' has dtype incompatible with int64, please explicitly cast to a compatible dtype first.\n",
            "  X.loc[:, ['year', 'milage', 'engineCapacity', 'enginePower', 'power_to_capacity']] = scaler.fit_transform(X[['year', 'milage', 'engineCapacity', 'enginePower', 'power_to_capacity']])\n"
          ]
        }
      ],
      "source": [
        "# Scaling the numerical features\n",
        "scaler = StandardScaler()\n",
        "\n",
        "X.loc[:, ['year', 'milage', 'engineCapacity', 'enginePower', 'power_to_capacity']] = scaler.fit_transform(X[['year', 'milage', 'engineCapacity', 'enginePower', 'power_to_capacity']])\n",
        "X_num = X[['year', 'milage', 'engineCapacity', 'enginePower', 'power_to_capacity']]"
      ]
    },
    {
      "cell_type": "code",
      "execution_count": 105,
      "metadata": {},
      "outputs": [],
      "source": [
        "# Saving the preprocessed data\n",
        "df_final = pd.concat([X_encoded.reset_index(drop=True), X_num.reset_index(drop=True), y.reset_index(drop=True)], axis=1)\n",
        "df_final.to_csv('../data/data_preprocessed.csv', index=False)"
      ]
    }
  ],
  "metadata": {
    "kernelspec": {
      "display_name": ".venv",
      "language": "python",
      "name": "python3"
    },
    "language_info": {
      "codemirror_mode": {
        "name": "ipython",
        "version": 3
      },
      "file_extension": ".py",
      "mimetype": "text/x-python",
      "name": "python",
      "nbconvert_exporter": "python",
      "pygments_lexer": "ipython3",
      "version": "3.11.7"
    }
  },
  "nbformat": 4,
  "nbformat_minor": 2
}
